{
 "cells": [
  {
   "cell_type": "code",
   "execution_count": 1,
   "id": "fa94454a",
   "metadata": {},
   "outputs": [],
   "source": [
    "# import os\n",
    "# import shutil\n",
    "\n",
    "# source_folder = r'F:\\NE\\flood shiliang\\vad\\3'\n",
    "# destination_folder = r'F:\\NE\\flood shiliang\\vad\\5'\n",
    "\n",
    "# # 确保目标文件夹存在，如果不存在则创建\n",
    "# if not os.path.exists(destination_folder):\n",
    "#     os.makedirs(destination_folder)\n",
    "\n",
    "# # 遍历源文件夹中的所有文件\n",
    "# for filename in os.listdir(source_folder):\n",
    "#     if filename.endswith('.json'):\n",
    "#         source_path = os.path.join(source_folder, filename)\n",
    "#         destination_path = os.path.join(destination_folder, filename)\n",
    "#         shutil.move(source_path, destination_path)\n",
    "#         print(f\"移动文件：{source_path} 到 {destination_path}\")\n",
    "\n",
    "# print(\"移动完成！\")"
   ]
  },
  {
   "cell_type": "code",
   "execution_count": 30,
   "id": "cce41bd5",
   "metadata": {},
   "outputs": [],
   "source": [
    "import os\n",
    "import json\n",
    "import numpy as np\n",
    "import cv2\n",
    "import shutil\n",
    "\n",
    "from tqdm import tqdm"
   ]
  },
  {
   "cell_type": "code",
   "execution_count": null,
   "id": "3b4cfb94",
   "metadata": {},
   "outputs": [],
   "source": [
    "import os\n",
    "import json\n",
    "import numpy as np\n",
    "import cv2\n",
    "import shutil\n",
    "from tqdm import tqdm\n",
    "\n",
    "Dataset_Path = r'F:\\NE\\flood shiliang\\vad\\labelme2marsk'\n",
    "\n",
    "# 0-背景，从 1 开始\n",
    "class_info = [\n",
    "    {'label': 'ketin', 'type': 'polygon', 'color': 1}, \n",
    "    {'label': 'woshi', 'type': 'polygon', 'color': 2},\n",
    "    {'label': 'chufang', 'type': 'polygon', 'color': 3},\n",
    "    {'label': 'weishengjian', 'type': 'polygon', 'color': 4},\n",
    "    {'label': 'yangtai', 'type': 'polygon', 'color': 5},\n",
    "    {'label': 'ketin', 'type': 'rectangle', 'color': 1, 'thickness': -1},\n",
    "    {'label': 'woshi', 'type': 'rectangle', 'color': 2, 'thickness': -1},\n",
    "    {'label': 'chufang', 'type': 'rectangle', 'color': 3, 'thickness': -1},\n",
    "    {'label': 'weishengjian', 'type': 'rectangle', 'color': 4, 'thickness': -1},\n",
    "    {'label': 'yangtai', 'type': 'rectangle', 'color': 5, 'thickness': -1}\n",
    "]\n",
    "\n",
    "def labelme2mask_single_img(img_path, labelme_json_path):\n",
    "    img_bgr = cv2.imread(img_path)\n",
    "    img_mask = np.zeros(img_bgr.shape[:2])  # 创建空白图像 0-背景\n",
    "    with open(labelme_json_path, 'r', encoding='utf-8') as f:\n",
    "        labelme = json.load(f)\n",
    "    for one_class in class_info:  # 按顺序遍历每一个类别\n",
    "        for each in labelme['shapes']:  # 遍历所有标注，找到属于当前类别的标注\n",
    "            if each['label'] == one_class['label']:\n",
    "                if one_class['type'] == 'polygon':  # polygon 多段线标注\n",
    "                    # 获取点的坐标\n",
    "                    points = [np.array(each['points'], dtype=np.int32).reshape((-1, 1, 2))]\n",
    "                    # 在空白图上画 mask（闭合区域）\n",
    "                    img_mask = cv2.fillPoly(img_mask, points, color=one_class['color'])\n",
    "                elif one_class['type'] == 'line' or one_class['type'] == 'linestrip':  # line 或者 linestrip 线段标注\n",
    "                    # 获取点的坐标\n",
    "                    points = [np.array(each['points'], dtype=np.int32).reshape((-1, 1, 2))]\n",
    "                    # 在空白图上画 mask（非闭合区域）\n",
    "                    img_mask = cv2.polylines(img_mask, points, isClosed=False, color=one_class['color'],\n",
    "                                              thickness=one_class['thickness'])\n",
    "                elif one_class['type'] == 'circle':  # circle 圆形标注\n",
    "                    points = np.array(each['points'], dtype=np.int32)\n",
    "                    center_x, center_y = points[0][0], points[0][1]  # 圆心点坐标\n",
    "                    edge_x, edge_y = points[1][0], points[1][1]  # 圆周点坐标\n",
    "                    radius = np.linalg.norm(np.array([center_x, center_y] - np.array([edge_x, edge_y]))).astype(\n",
    "                        'uint32')  # 半径\n",
    "                    img_mask = cv2.circle(img_mask, (center_x, center_y), radius, one_class['color'],\n",
    "                                          one_class['thickness'])\n",
    "                elif one_class['type'] == 'rectangle':  # circle 矩形标注\n",
    "                    points = np.array(each['points'], dtype=np.int32)\n",
    "                    top_left = tuple(points[0])\n",
    "                    bottom_right = tuple(points[1])\n",
    "                    img_mask = cv2.rectangle(img_mask, top_left, bottom_right, one_class['color'],\n",
    "                                            one_class.get('thickness', -1))\n",
    "                else:\n",
    "                    print('未知标注类型', one_class['type'])\n",
    "    return img_mask\n",
    "\n"
   ]
  },
  {
   "cell_type": "code",
   "execution_count": null,
   "id": "349d52fa",
   "metadata": {},
   "outputs": [],
   "source": [
    "os.chdir(Dataset_Path)\n",
    "os.mkdir('masks')\n",
    "os.chdir('images')\n"
   ]
  },
  {
   "cell_type": "code",
   "execution_count": null,
   "id": "0c5b9574",
   "metadata": {},
   "outputs": [],
   "source": [
    "for img_path in tqdm(os.listdir()):\n",
    "    try:\n",
    "        labelme_json_path = os.path.join('../', 'labelme_jsons', '.'.join(img_path.split('.')[:-1]) + '.json')\n",
    "        img_mask = labelme2mask_single_img(img_path, labelme_json_path)\n",
    "        mask_path = img_path.split('.')[0] + '.png'\n",
    "        cv2.imwrite(os.path.join('../', 'masks', mask_path), img_mask)\n",
    "    except Exception as E:\n",
    "        print(img_path, '转换失败', E)"
   ]
  },
  {
   "cell_type": "code",
   "execution_count": 64,
   "id": "6b1dfd6f",
   "metadata": {},
   "outputs": [
    {
     "name": "stdout",
     "output_type": "stream",
     "text": [
      "📁 labelme2marsk/\n",
      "├─📁 ann_dir/\n",
      "├─📁 img_dir/\n",
      "├─📁 train/\n",
      "└─📁 val/\n"
     ]
    }
   ],
   "source": [
    "import seedir as sd\n",
    "sd.seedir(Dataset_Path, style='emoji', depthlimit=1)"
   ]
  },
  {
   "cell_type": "code",
   "execution_count": 65,
   "id": "03b4d7ad",
   "metadata": {},
   "outputs": [
    {
     "ename": "FileExistsError",
     "evalue": "[WinError 183] 当文件已存在时，无法创建该文件。: 'train'",
     "output_type": "error",
     "traceback": [
      "\u001b[1;31m---------------------------------------------------------------------------\u001b[0m",
      "\u001b[1;31mFileExistsError\u001b[0m                           Traceback (most recent call last)",
      "\u001b[1;32mC:\\Users\\ADMINI~1\\AppData\\Local\\Temp/ipykernel_9804/1226349862.py\u001b[0m in \u001b[0;36m<module>\u001b[1;34m\u001b[0m\n\u001b[0;32m      1\u001b[0m \u001b[0mos\u001b[0m\u001b[1;33m.\u001b[0m\u001b[0mchdir\u001b[0m\u001b[1;33m(\u001b[0m\u001b[0mDataset_Path\u001b[0m\u001b[1;33m)\u001b[0m\u001b[1;33m\u001b[0m\u001b[1;33m\u001b[0m\u001b[0m\n\u001b[1;32m----> 2\u001b[1;33m \u001b[0mos\u001b[0m\u001b[1;33m.\u001b[0m\u001b[0mmkdir\u001b[0m\u001b[1;33m(\u001b[0m\u001b[1;34m'train'\u001b[0m\u001b[1;33m)\u001b[0m\u001b[1;33m\u001b[0m\u001b[1;33m\u001b[0m\u001b[0m\n\u001b[0m\u001b[0;32m      3\u001b[0m \u001b[0mos\u001b[0m\u001b[1;33m.\u001b[0m\u001b[0mmkdir\u001b[0m\u001b[1;33m(\u001b[0m\u001b[1;34m'val'\u001b[0m\u001b[1;33m)\u001b[0m\u001b[1;33m\u001b[0m\u001b[1;33m\u001b[0m\u001b[0m\n",
      "\u001b[1;31mFileExistsError\u001b[0m: [WinError 183] 当文件已存在时，无法创建该文件。: 'train'"
     ]
    }
   ],
   "source": [
    "os.chdir(Dataset_Path)\n",
    "os.mkdir('train')\n",
    "os.mkdir('val')"
   ]
  },
  {
   "cell_type": "code",
   "execution_count": 66,
   "id": "2839a1ec",
   "metadata": {},
   "outputs": [
    {
     "data": {
      "text/plain": [
       "172"
      ]
     },
     "execution_count": 66,
     "metadata": {},
     "output_type": "execute_result"
    }
   ],
   "source": [
    "len(os.listdir('img_dir'))\n",
    "\n"
   ]
  },
  {
   "cell_type": "code",
   "execution_count": 67,
   "id": "9665d1e1",
   "metadata": {},
   "outputs": [
    {
     "data": {
      "text/plain": [
       "172"
      ]
     },
     "execution_count": 67,
     "metadata": {},
     "output_type": "execute_result"
    }
   ],
   "source": [
    "len(os.listdir('ann_dir'))"
   ]
  },
  {
   "cell_type": "code",
   "execution_count": 68,
   "id": "0666e7ce",
   "metadata": {},
   "outputs": [],
   "source": [
    "import random\n",
    "test_frac = 0.2  # 测试集比例\n",
    "random.seed(123) # 随机数种子，便于复现\n",
    "folder = 'img_dir'"
   ]
  },
  {
   "cell_type": "code",
   "execution_count": 69,
   "id": "ccb67333",
   "metadata": {},
   "outputs": [
    {
     "name": "stdout",
     "output_type": "stream",
     "text": [
      "数据集文件总数 172\n",
      "训练集文件个数 138\n",
      "测试集文件个数 34\n"
     ]
    }
   ],
   "source": [
    "img_paths = os.listdir(folder)\n",
    "random.shuffle(img_paths) # 随机打乱\n",
    "\n",
    "val_number = int(len(img_paths) * test_frac) # 测试集文件个数\n",
    "train_files = img_paths[val_number:]         # 训练集文件名列表\n",
    "val_files = img_paths[:val_number]           # 测试集文件名列表\n",
    "\n",
    "print('数据集文件总数', len(img_paths))\n",
    "print('训练集文件个数', len(train_files))\n",
    "print('测试集文件个数', len(val_files))"
   ]
  },
  {
   "cell_type": "code",
   "execution_count": 70,
   "id": "36873fbf",
   "metadata": {},
   "outputs": [
    {
     "name": "stderr",
     "output_type": "stream",
     "text": [
      "100%|██████████████████████████████████████████████████████████████████████████████| 138/138 [00:00<00:00, 9510.58it/s]\n"
     ]
    }
   ],
   "source": [
    "for each in tqdm(train_files):\n",
    "    src_path = os.path.join(folder, each)\n",
    "    dst_path = os.path.join('train', each)\n",
    "    shutil.move(src_path, dst_path)"
   ]
  },
  {
   "cell_type": "code",
   "execution_count": 71,
   "id": "e484d637",
   "metadata": {},
   "outputs": [
    {
     "name": "stderr",
     "output_type": "stream",
     "text": [
      "100%|█████████████████████████████████████████████████████████████████████████████████| 34/34 [00:00<00:00, 974.01it/s]\n"
     ]
    }
   ],
   "source": [
    "for each in tqdm(val_files):\n",
    "    src_path = os.path.join(folder, each)\n",
    "    dst_path = os.path.join('val', each)\n",
    "    shutil.move(src_path, dst_path)"
   ]
  },
  {
   "cell_type": "code",
   "execution_count": 72,
   "id": "39513a35",
   "metadata": {},
   "outputs": [
    {
     "data": {
      "text/plain": [
       "172"
      ]
     },
     "execution_count": 72,
     "metadata": {},
     "output_type": "execute_result"
    }
   ],
   "source": [
    "len(os.listdir('train')) + len(os.listdir('val'))"
   ]
  },
  {
   "cell_type": "code",
   "execution_count": 73,
   "id": "62f34c99",
   "metadata": {},
   "outputs": [
    {
     "data": {
      "text/plain": [
       "'img_dir/val'"
      ]
     },
     "execution_count": 73,
     "metadata": {},
     "output_type": "execute_result"
    }
   ],
   "source": [
    "shutil.move('train', 'img_dir/train')\n",
    "shutil.move('val', 'img_dir/val')"
   ]
  },
  {
   "cell_type": "code",
   "execution_count": 74,
   "id": "c5efccc5",
   "metadata": {},
   "outputs": [],
   "source": [
    "folder = 'ann_dir'"
   ]
  },
  {
   "cell_type": "code",
   "execution_count": 75,
   "id": "3bf2cbe5",
   "metadata": {},
   "outputs": [],
   "source": [
    "os.mkdir('train')\n",
    "os.mkdir('val')"
   ]
  },
  {
   "cell_type": "code",
   "execution_count": 76,
   "id": "9c3ab8f6",
   "metadata": {},
   "outputs": [
    {
     "name": "stderr",
     "output_type": "stream",
     "text": [
      "100%|██████████████████████████████████████████████████████████████████████████████| 138/138 [00:00<00:00, 8652.96it/s]\n"
     ]
    }
   ],
   "source": [
    "for each in tqdm(train_files):\n",
    "    src_path = os.path.join(folder, each.split('.')[0]+'.png')\n",
    "    dst_path = os.path.join('train', each.split('.')[0]+'.png')\n",
    "    shutil.move(src_path, dst_path)"
   ]
  },
  {
   "cell_type": "code",
   "execution_count": 77,
   "id": "126012bb",
   "metadata": {},
   "outputs": [
    {
     "name": "stderr",
     "output_type": "stream",
     "text": [
      "100%|█████████████████████████████████████████████████████████████████████████████████| 34/34 [00:00<00:00, 792.62it/s]\n"
     ]
    }
   ],
   "source": [
    "for each in tqdm(val_files):\n",
    "    src_path = os.path.join(folder, each.split('.')[0]+'.png')\n",
    "    dst_path = os.path.join('val', each.split('.')[0]+'.png')\n",
    "    shutil.move(src_path, dst_path)"
   ]
  },
  {
   "cell_type": "code",
   "execution_count": 78,
   "id": "988d80b5",
   "metadata": {},
   "outputs": [
    {
     "data": {
      "text/plain": [
       "172"
      ]
     },
     "execution_count": 78,
     "metadata": {},
     "output_type": "execute_result"
    }
   ],
   "source": [
    "len(os.listdir('train')) + len(os.listdir('val'))"
   ]
  },
  {
   "cell_type": "code",
   "execution_count": 79,
   "id": "ee504f5d",
   "metadata": {},
   "outputs": [
    {
     "data": {
      "text/plain": [
       "'ann_dir/val'"
      ]
     },
     "execution_count": 79,
     "metadata": {},
     "output_type": "execute_result"
    }
   ],
   "source": [
    "shutil.move('train', 'ann_dir/train')\n",
    "shutil.move('val', 'ann_dir/val')"
   ]
  },
  {
   "cell_type": "code",
   "execution_count": 80,
   "id": "a2613ebb",
   "metadata": {},
   "outputs": [
    {
     "name": "stdout",
     "output_type": "stream",
     "text": [
      "^C\n"
     ]
    }
   ],
   "source": []
  },
  {
   "cell_type": "code",
   "execution_count": 28,
   "id": "dc5637e4",
   "metadata": {},
   "outputs": [
    {
     "data": {
      "text/plain": [
       "'1.10.1+cu113'"
      ]
     },
     "execution_count": 28,
     "metadata": {},
     "output_type": "execute_result"
    }
   ],
   "source": []
  },
  {
   "cell_type": "code",
   "execution_count": null,
   "id": "180239d1",
   "metadata": {},
   "outputs": [],
   "source": []
  }
 ],
 "metadata": {
  "kernelspec": {
   "display_name": "Python 3 (ipykernel)",
   "language": "python",
   "name": "python3"
  },
  "language_info": {
   "codemirror_mode": {
    "name": "ipython",
    "version": 3
   },
   "file_extension": ".py",
   "mimetype": "text/x-python",
   "name": "python",
   "nbconvert_exporter": "python",
   "pygments_lexer": "ipython3",
   "version": "3.9.7"
  }
 },
 "nbformat": 4,
 "nbformat_minor": 5
}
