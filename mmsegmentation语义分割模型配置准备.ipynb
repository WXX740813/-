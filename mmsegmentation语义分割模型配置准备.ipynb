{
 "cells": [
  {
   "cell_type": "markdown",
   "id": "6dae28ce",
   "metadata": {},
   "source": [
    "进入MMSegmentation主目录"
   ]
  },
  {
   "cell_type": "code",
   "execution_count": 8,
   "id": "12deaef2",
   "metadata": {},
   "outputs": [],
   "source": [
    "# 进入主目录\n",
    "import os\n",
    "os.chdir(r'F:\\NE\\flood shiliang\\vad\\mmsegmentation-1.1.2')"
   ]
  },
  {
   "cell_type": "code",
   "execution_count": 9,
   "id": "eed9f120",
   "metadata": {},
   "outputs": [
    {
     "data": {
      "text/plain": [
       "'F:\\\\NE\\\\flood shiliang\\\\vad\\\\mmsegmentation-1.1.2'"
      ]
     },
     "execution_count": 9,
     "metadata": {},
     "output_type": "execute_result"
    }
   ],
   "source": [
    "os.getcwd()"
   ]
  },
  {
   "cell_type": "code",
   "execution_count": 10,
   "id": "6c085ddf",
   "metadata": {},
   "outputs": [],
   "source": [
    "from mmengine import Config\n",
    "cfg = Config.fromfile('./configs/knet/knet-s3_swin-l_upernet_8xb2-adamw-80k_ade20k-512x512.py')\n",
    "dataset_cfg = Config.fromfile('./configs/_base_/datasets/ZihaoDataset_pipeline.py')\n",
    "cfg.merge_from_dict(dataset_cfg)"
   ]
  },
  {
   "cell_type": "code",
   "execution_count": 11,
   "id": "98aa5488",
   "metadata": {},
   "outputs": [],
   "source": [
    "# 类别个数\n",
    "NUM_CLASS = 6"
   ]
  },
  {
   "cell_type": "code",
   "execution_count": 18,
   "id": "3cfb03d5",
   "metadata": {},
   "outputs": [],
   "source": [
    "# 单卡训练时，需要把 SyncBN 改成 BN\n",
    "cfg.norm_cfg = dict(type='BN', requires_grad=True) # 只使用GPU时，BN取代SyncBN\n",
    "cfg.model.data_preprocessor.size = cfg.crop_size\n",
    "\n",
    "# 模型 decode/auxiliary 输出头，指定为类别个数\n",
    "# cfg.model.decode_head.num_classes = NUM_CLASS\n",
    "cfg.model.decode_head.kernel_generate_head.num_classes = NUM_CLASS\n",
    "cfg.model.auxiliary_head.num_classes = NUM_CLASS\n",
    "\n",
    "# 训练 Batch Size\n",
    "cfg.train_dataloader.batch_size = 2\n",
    "\n",
    "# 结果保存目录\n",
    "cfg.work_dir = './work_dirs/ZihaoDataset-KNet'\n",
    "\n",
    "# cfg.train_cfg.max_iters = 20000 # 训练迭代次数\n",
    "# cfg.train_cfg.val_interval = 500 # 评估模型间隔\n",
    "# cfg.default_hooks.logger.interval = 100 # 日志记录间隔\n",
    "# cfg.default_hooks.checkpoint.interval = 2500 # 模型权重保存间隔\n",
    "# cfg.default_hooks.checkpoint.max_keep_ckpts = 2 # 最多保留几个模型权重\n",
    "# cfg.default_hooks.checkpoint.save_best = 'mIoU' # 保留指标最高的模型权重\n",
    "\n",
    "\n",
    "cfg.train_cfg.max_iters = 1000 # 训练迭代次数\n",
    "cfg.train_cfg.val_interval = 100 # 评估模型间隔\n",
    "cfg.default_hooks.logger.interval = 100 # 日志记录间隔\n",
    "cfg.default_hooks.checkpoint.interval = 100 # 模型权重保存间隔\n",
    "cfg.default_hooks.checkpoint.max_keep_ckpts = 2 # 最多保留几个模型权重\n",
    "cfg.default_hooks.checkpoint.save_best = 'mIoU' # 保留指标最高的模型权重\n",
    "# 随机数种子\n",
    "cfg['randomness'] = dict(seed=0)"
   ]
  },
  {
   "cell_type": "code",
   "execution_count": 19,
   "id": "c323dc75",
   "metadata": {},
   "outputs": [],
   "source": [
    "# print(cfg.pretty_text)"
   ]
  },
  {
   "cell_type": "code",
   "execution_count": 20,
   "id": "a4b61cc4",
   "metadata": {},
   "outputs": [],
   "source": [
    "cfg.dump('Zihao-Configs/ZihaoDataset_KNet_20230818.py')"
   ]
  },
  {
   "cell_type": "code",
   "execution_count": null,
   "id": "0d3043c0",
   "metadata": {},
   "outputs": [],
   "source": []
  }
 ],
 "metadata": {
  "kernelspec": {
   "display_name": "Python 3 (ipykernel)",
   "language": "python",
   "name": "python3"
  },
  "language_info": {
   "codemirror_mode": {
    "name": "ipython",
    "version": 3
   },
   "file_extension": ".py",
   "mimetype": "text/x-python",
   "name": "python",
   "nbconvert_exporter": "python",
   "pygments_lexer": "ipython3",
   "version": "3.9.7"
  }
 },
 "nbformat": 4,
 "nbformat_minor": 5
}
