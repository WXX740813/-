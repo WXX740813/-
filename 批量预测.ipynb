{
 "cells": [
  {
   "cell_type": "code",
   "execution_count": 1,
   "id": "4fc4532c-2943-41d7-940e-6e99c174bbc1",
   "metadata": {},
   "outputs": [],
   "source": [
    "import os\n",
    "os.chdir('mmsegmentation')"
   ]
  },
  {
   "cell_type": "code",
   "execution_count": 2,
   "id": "d1fd5229-0b63-4aed-ab76-644a8e504516",
   "metadata": {},
   "outputs": [
    {
     "data": {
      "text/plain": [
       "'/home/featurize/mmsegmentation'"
      ]
     },
     "execution_count": 2,
     "metadata": {},
     "output_type": "execute_result"
    }
   ],
   "source": [
    "os.getcwd()"
   ]
  },
  {
   "cell_type": "code",
   "execution_count": 3,
   "id": "a14cf84a-8960-4411-a8f9-1ca2cda754c3",
   "metadata": {},
   "outputs": [],
   "source": [
    "import os\n",
    "import numpy as np\n",
    "import cv2\n",
    "from tqdm import tqdm\n",
    "\n",
    "from mmseg.apis import init_model, inference_model, show_result_pyplot\n",
    "import mmcv\n",
    "\n",
    "import matplotlib.pyplot as plt\n",
    "%matplotlib inline"
   ]
  },
  {
   "cell_type": "code",
   "execution_count": 4,
   "id": "d4eafcba-37b2-4d10-978b-903cad798a0e",
   "metadata": {},
   "outputs": [],
   "source": [
    "# 模型 config 配置文件\n",
    "config_file = 'Zihao-Configs/ZihaoDataset_KNet_20230818.py'\n",
    "\n",
    "# 模型 checkpoint 权重文件\n",
    "checkpoint_file = 'checkpoint/Zihao_KNet.pth'\n",
    "\n",
    "# 计算硬件\n",
    "# device = 'cpu'\n",
    "device = 'cuda:0'"
   ]
  },
  {
   "cell_type": "code",
   "execution_count": 5,
   "id": "41b674fd-9290-46ca-8fff-35c5db0b54f5",
   "metadata": {},
   "outputs": [
    {
     "name": "stderr",
     "output_type": "stream",
     "text": [
      "/home/featurize/mmsegmentation/mmseg/models/builder.py:36: UserWarning: ``build_loss`` would be deprecated soon, please use ``mmseg.registry.MODELS.build()`` \n",
      "  warnings.warn('``build_loss`` would be deprecated soon, please use '\n",
      "/home/featurize/mmsegmentation/mmseg/models/losses/cross_entropy_loss.py:236: UserWarning: Default ``avg_non_ignore`` is False, if you would like to ignore the certain label and average loss over non-ignore labels, which is the same with PyTorch official cross_entropy, set ``avg_non_ignore=True``.\n",
      "  'Default ``avg_non_ignore`` is False, if you would like to '\n"
     ]
    },
    {
     "name": "stdout",
     "output_type": "stream",
     "text": [
      "Loads checkpoint by local backend from path: checkpoint/Zihao_KNet.pth\n"
     ]
    }
   ],
   "source": [
    "model = init_model(config_file, checkpoint_file, device=device)"
   ]
  },
  {
   "cell_type": "code",
   "execution_count": 6,
   "id": "c3ad8bba-2b12-4ba0-b56f-ae6b8b02cd48",
   "metadata": {},
   "outputs": [],
   "source": [
    "# 每个类别的 BGR 配色\n",
    "palette = [\n",
    "    ['background', [127,127,127]],\n",
    "    ['ketin', [163,196,63]],\n",
    "    ['woshi', [63,204,65]],\n",
    "    ['weishengjian', [76,49,102]],\n",
    "    ['chufang', [89,56,32]],\n",
    "    ['yangtai', [57,112,159]]\n",
    "]\n",
    "\n",
    "palette_dict = {}\n",
    "for idx, each in enumerate(palette):\n",
    "    palette_dict[idx] = each[1]"
   ]
  },
  {
   "cell_type": "code",
   "execution_count": 7,
   "id": "0490c568-be3a-4f1d-ad4b-774cc92593d7",
   "metadata": {},
   "outputs": [
    {
     "data": {
      "text/plain": [
       "{0: [127, 127, 127],\n",
       " 1: [163, 196, 63],\n",
       " 2: [63, 204, 65],\n",
       " 3: [76, 49, 102],\n",
       " 4: [89, 56, 32],\n",
       " 5: [57, 112, 159]}"
      ]
     },
     "execution_count": 7,
     "metadata": {},
     "output_type": "execute_result"
    }
   ],
   "source": [
    "palette_dict"
   ]
  },
  {
   "cell_type": "code",
   "execution_count": 8,
   "id": "378bc23b-df33-4133-82cc-7aead535fcec",
   "metadata": {},
   "outputs": [],
   "source": [
    "# if not os.path.exists('outputs/testset-pred'):\n",
    "#     os.mkdir('outputs/testset-pred')"
   ]
  },
  {
   "cell_type": "code",
   "execution_count": 41,
   "id": "9d12cfa7-d1bf-44a8-9f72-0e4094d9f7d2",
   "metadata": {},
   "outputs": [],
   "source": [
    "PATH_IMAGE = '/home/featurize/mmsegmentation/labelme2marsk/img_dir/val'"
   ]
  },
  {
   "cell_type": "code",
   "execution_count": 42,
   "id": "643e821c-8bd7-4190-aa0b-e2ad52e711f3",
   "metadata": {},
   "outputs": [],
   "source": [
    "os.chdir(PATH_IMAGE)"
   ]
  },
  {
   "cell_type": "code",
   "execution_count": 43,
   "id": "12f36d06-9494-4261-aa55-c13d8e56f363",
   "metadata": {},
   "outputs": [],
   "source": [
    "opacity = 0 # 透明度，越大越接近原图"
   ]
  },
  {
   "cell_type": "code",
   "execution_count": 44,
   "id": "87d87fc4-1d8a-4dd5-a807-980c0d2f0675",
   "metadata": {},
   "outputs": [],
   "source": [
    "def process_single_img(img_path, save=False):\n",
    "    \n",
    "    img_bgr = cv2.imread(img_path)\n",
    "\n",
    "    # 语义分割预测\n",
    "    result = inference_model(model, img_bgr)\n",
    "    pred_mask = result.pred_sem_seg.data[0].cpu().numpy()\n",
    "\n",
    "    # 将预测的整数ID，映射为对应类别的颜色\n",
    "    pred_mask_bgr = np.zeros((pred_mask.shape[0], pred_mask.shape[1], 3))\n",
    "    for idx in palette_dict.keys():\n",
    "        pred_mask_bgr[np.where(pred_mask==idx)] = palette_dict[idx]\n",
    "    pred_mask_bgr = pred_mask_bgr.astype('uint8')\n",
    "\n",
    "    # 将语义分割预测图和原图叠加显示\n",
    "    pred_viz = cv2.addWeighted(img_bgr, opacity, pred_mask_bgr, 1-opacity, 0)\n",
    "    \n",
    "    # 保存图像至 outputs/testset-pred 目录\n",
    "    if save:\n",
    "        save_path = os.path.join('../','../','../','outputs', 'testset-pred', 'pred-'+img_path.split('/')[-1])\n",
    "        cv2.imwrite(save_path, pred_viz)"
   ]
  },
  {
   "cell_type": "code",
   "execution_count": 45,
   "id": "a4f975fe-b873-477c-bd0f-904ff5c3e9e5",
   "metadata": {},
   "outputs": [
    {
     "name": "stderr",
     "output_type": "stream",
     "text": [
      "100%|██████████| 439/439 [02:16<00:00,  3.21it/s]\n"
     ]
    }
   ],
   "source": [
    "for each in tqdm(os.listdir()):\n",
    "    process_single_img(each, save=True)"
   ]
  },
  {
   "cell_type": "code",
   "execution_count": 36,
   "id": "3e8d6fa6-c51e-4e31-b7c5-f4f5527f361b",
   "metadata": {},
   "outputs": [],
   "source": [
    "os.chdir(os.path.join('../','../','../'))"
   ]
  },
  {
   "cell_type": "code",
   "execution_count": 37,
   "id": "d6006566-b2dc-4fce-8799-5a165fd79876",
   "metadata": {},
   "outputs": [],
   "source": [
    "os.chdir('outputs/testset-pred')"
   ]
  },
  {
   "cell_type": "code",
   "execution_count": 38,
   "id": "32763b45-fa66-4453-ba46-ddca8c025815",
   "metadata": {},
   "outputs": [
    {
     "ename": "TypeError",
     "evalue": "'NoneType' object is not subscriptable",
     "output_type": "error",
     "traceback": [
      "\u001b[0;31m---------------------------------------------------------------------------\u001b[0m",
      "\u001b[0;31mTypeError\u001b[0m                                 Traceback (most recent call last)",
      "\u001b[0;32m/tmp/ipykernel_19765/4157877440.py\u001b[0m in \u001b[0;36m<module>\u001b[0;34m\u001b[0m\n\u001b[1;32m      9\u001b[0m \u001b[0;34m\u001b[0m\u001b[0m\n\u001b[1;32m     10\u001b[0m     \u001b[0;31m# 可视化\u001b[0m\u001b[0;34m\u001b[0m\u001b[0;34m\u001b[0m\u001b[0;34m\u001b[0m\u001b[0m\n\u001b[0;32m---> 11\u001b[0;31m     \u001b[0maxes\u001b[0m\u001b[0;34m[\u001b[0m\u001b[0mi\u001b[0m\u001b[0;34m//\u001b[0m\u001b[0mn\u001b[0m\u001b[0;34m,\u001b[0m \u001b[0mi\u001b[0m\u001b[0;34m%\u001b[0m\u001b[0mn\u001b[0m\u001b[0;34m]\u001b[0m\u001b[0;34m.\u001b[0m\u001b[0mimshow\u001b[0m\u001b[0;34m(\u001b[0m\u001b[0mimg_bgr\u001b[0m\u001b[0;34m[\u001b[0m\u001b[0;34m:\u001b[0m\u001b[0;34m,\u001b[0m\u001b[0;34m:\u001b[0m\u001b[0;34m,\u001b[0m\u001b[0;34m:\u001b[0m\u001b[0;34m:\u001b[0m\u001b[0;34m-\u001b[0m\u001b[0;36m1\u001b[0m\u001b[0;34m]\u001b[0m\u001b[0;34m)\u001b[0m\u001b[0;34m\u001b[0m\u001b[0;34m\u001b[0m\u001b[0m\n\u001b[0m\u001b[1;32m     12\u001b[0m     \u001b[0maxes\u001b[0m\u001b[0;34m[\u001b[0m\u001b[0mi\u001b[0m\u001b[0;34m//\u001b[0m\u001b[0mn\u001b[0m\u001b[0;34m,\u001b[0m \u001b[0mi\u001b[0m\u001b[0;34m%\u001b[0m\u001b[0mn\u001b[0m\u001b[0;34m]\u001b[0m\u001b[0;34m.\u001b[0m\u001b[0maxis\u001b[0m\u001b[0;34m(\u001b[0m\u001b[0;34m'off'\u001b[0m\u001b[0;34m)\u001b[0m \u001b[0;31m# 关闭坐标轴显示\u001b[0m\u001b[0;34m\u001b[0m\u001b[0;34m\u001b[0m\u001b[0m\n\u001b[1;32m     13\u001b[0m \u001b[0mfig\u001b[0m\u001b[0;34m.\u001b[0m\u001b[0msuptitle\u001b[0m\u001b[0;34m(\u001b[0m\u001b[0;34m'Semantic Segmentation Predictions'\u001b[0m\u001b[0;34m,\u001b[0m \u001b[0mfontsize\u001b[0m\u001b[0;34m=\u001b[0m\u001b[0;36m30\u001b[0m\u001b[0;34m)\u001b[0m\u001b[0;34m\u001b[0m\u001b[0;34m\u001b[0m\u001b[0m\n",
      "\u001b[0;31mTypeError\u001b[0m: 'NoneType' object is not subscriptable"
     ]
    },
    {
     "data": {
      "image/png": "[encoded data removed]",
      "text/plain": [
       "<Figure size 1152x720 with 25 Axes>"
      ]
     },
     "metadata": {
      "needs_background": "light"
     },
     "output_type": "display_data"
    }
   ],
   "source": [
    "# n 行 n 列可视化\n",
    "n = 5\n",
    "\n",
    "fig, axes = plt.subplots(nrows=n, ncols=n, figsize=(16, 10))\n",
    "\n",
    "for i, file_name in enumerate(os.listdir()[:n**2]):\n",
    "    \n",
    "    img_bgr = cv2.imread(file_name)\n",
    "    \n",
    "    # 可视化\n",
    "    axes[i//n, i%n].imshow(img_bgr[:,:,::-1])\n",
    "    axes[i//n, i%n].axis('off') # 关闭坐标轴显示\n",
    "fig.suptitle('Semantic Segmentation Predictions', fontsize=30)\n",
    "# plt.tight_layout()\n",
    "plt.savefig('../K3.jpg')\n",
    "plt.show()"
   ]
  },
  {
   "cell_type": "code",
   "execution_count": null,
   "id": "f733b6dc-aa2f-455f-9ca3-9a71c298320e",
   "metadata": {},
   "outputs": [],
   "source": []
  }
 ],
 "metadata": {
  "kernelspec": {
   "display_name": "Python 3 (ipykernel)",
   "language": "python",
   "name": "python3"
  },
  "language_info": {
   "codemirror_mode": {
    "name": "ipython",
    "version": 3
   },
   "file_extension": ".py",
   "mimetype": "text/x-python",
   "name": "python",
   "nbconvert_exporter": "python",
   "pygments_lexer": "ipython3",
   "version": "3.7.10"
  }
 },
 "nbformat": 4,
 "nbformat_minor": 5
}
